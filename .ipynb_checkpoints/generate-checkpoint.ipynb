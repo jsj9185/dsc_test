{
 "cells": [
  {
   "cell_type": "code",
   "execution_count": null,
   "id": "72795e48-f18f-41cc-8c6f-55e3c58d5c77",
   "metadata": {},
   "outputs": [],
   "source": [
    "# Generate"
   ]
  },
  {
   "cell_type": "code",
   "execution_count": 2,
   "id": "110d1f00-b0f0-418c-b43b-76cbea5ef78a",
   "metadata": {},
   "outputs": [],
   "source": [
    "from sentence_transformers import CrossEncoder\n",
    "import logging\n",
    "import os\n",
    "import pandas as pd\n",
    "import torch, gc\n",
    "from datetime import datetime\n",
    "import argparse\n",
    "import matplotlib.pyplot as plt\n",
    "# from financerag.rerank import CrossEncoderReranker\n",
    "# from financerag.retrieval import DenseRetrieval, SentenceTransformerEncoder, BM25Retriever, HybridRetriever\n",
    "from financerag.tasks import ConvFinQA, FinanceBench, FinDER, FinQA, FinQABench, MultiHiertt, TATQA\n",
    "from financerag.generate import OpenAIGenerator, CustomGenerator\n",
    "logging.basicConfig(level=logging.INFO)\n",
    "\n",
    "torch.cuda.set_device(0)"
   ]
  },
  {
   "cell_type": "code",
   "execution_count": 3,
   "id": "f9b12c4d-5e6e-4bb7-adff-e80edf229b38",
   "metadata": {},
   "outputs": [
    {
     "data": {
      "text/html": [
       "<div>\n",
       "<style scoped>\n",
       "    .dataframe tbody tr th:only-of-type {\n",
       "        vertical-align: middle;\n",
       "    }\n",
       "\n",
       "    .dataframe tbody tr th {\n",
       "        vertical-align: top;\n",
       "    }\n",
       "\n",
       "    .dataframe thead th {\n",
       "        text-align: right;\n",
       "    }\n",
       "</style>\n",
       "<table border=\"1\" class=\"dataframe\">\n",
       "  <thead>\n",
       "    <tr style=\"text-align: right;\">\n",
       "      <th></th>\n",
       "      <th>query_id</th>\n",
       "      <th>corpus_id</th>\n",
       "    </tr>\n",
       "  </thead>\n",
       "  <tbody>\n",
       "    <tr>\n",
       "      <th>0</th>\n",
       "      <td>qd4982518</td>\n",
       "      <td>dd4c4fb38</td>\n",
       "    </tr>\n",
       "    <tr>\n",
       "      <th>1</th>\n",
       "      <td>qd4982518</td>\n",
       "      <td>dd4c4ef80</td>\n",
       "    </tr>\n",
       "    <tr>\n",
       "      <th>2</th>\n",
       "      <td>qd4982518</td>\n",
       "      <td>dd4c4f7aa</td>\n",
       "    </tr>\n",
       "    <tr>\n",
       "      <th>3</th>\n",
       "      <td>qd4982518</td>\n",
       "      <td>dd4ba3af4</td>\n",
       "    </tr>\n",
       "    <tr>\n",
       "      <th>4</th>\n",
       "      <td>qd4982518</td>\n",
       "      <td>dd4bf84f0</td>\n",
       "    </tr>\n",
       "    <tr>\n",
       "      <th>...</th>\n",
       "      <td>...</td>\n",
       "      <td>...</td>\n",
       "    </tr>\n",
       "    <tr>\n",
       "      <th>46705</th>\n",
       "      <td>q1a73d3ea</td>\n",
       "      <td>d1b3b712a</td>\n",
       "    </tr>\n",
       "    <tr>\n",
       "      <th>46706</th>\n",
       "      <td>q1a73d3ea</td>\n",
       "      <td>d1b35f90c</td>\n",
       "    </tr>\n",
       "    <tr>\n",
       "      <th>46707</th>\n",
       "      <td>q1a73d3ea</td>\n",
       "      <td>d1a73d426</td>\n",
       "    </tr>\n",
       "    <tr>\n",
       "      <th>46708</th>\n",
       "      <td>q1a73d3ea</td>\n",
       "      <td>d1b3858e6</td>\n",
       "    </tr>\n",
       "    <tr>\n",
       "      <th>46709</th>\n",
       "      <td>q1a73d3ea</td>\n",
       "      <td>d1b3c8146</td>\n",
       "    </tr>\n",
       "  </tbody>\n",
       "</table>\n",
       "<p>46710 rows × 2 columns</p>\n",
       "</div>"
      ],
      "text/plain": [
       "        query_id  corpus_id\n",
       "0      qd4982518  dd4c4fb38\n",
       "1      qd4982518  dd4c4ef80\n",
       "2      qd4982518  dd4c4f7aa\n",
       "3      qd4982518  dd4ba3af4\n",
       "4      qd4982518  dd4bf84f0\n",
       "...          ...        ...\n",
       "46705  q1a73d3ea  d1b3b712a\n",
       "46706  q1a73d3ea  d1b35f90c\n",
       "46707  q1a73d3ea  d1a73d426\n",
       "46708  q1a73d3ea  d1b3858e6\n",
       "46709  q1a73d3ea  d1b3c8146\n",
       "\n",
       "[46710 rows x 2 columns]"
      ]
     },
     "execution_count": 3,
     "metadata": {},
     "output_type": "execute_result"
    }
   ],
   "source": [
    "final_rank = pd.read_csv('./data/final_submission.csv', index_col=False)\n",
    "final_rank"
   ]
  },
  {
   "cell_type": "code",
   "execution_count": 4,
   "id": "341896ce-930e-41b2-a0ce-d414be302267",
   "metadata": {},
   "outputs": [
    {
     "name": "stdout",
     "output_type": "stream",
     "text": [
      "changed\n"
     ]
    }
   ],
   "source": [
    "convfinqa_task = ConvFinQA()\n",
    "finbench_task = FinanceBench()\n",
    "finder_task = FinDER()\n",
    "finqa_task = FinQA()\n",
    "finqabench_task = FinQABench()\n",
    "multih_task = MultiHiertt()\n",
    "tatqa_task = TATQA()"
   ]
  },
  {
   "cell_type": "code",
   "execution_count": 5,
   "id": "111830b8-498c-4585-aa5f-cb24712dc2e3",
   "metadata": {},
   "outputs": [],
   "source": [
    "convfinqa_results = final_rank.iloc[:4210]\n",
    "finbench_results = final_rank.iloc[4210:6370]\n",
    "finder_results = final_rank.iloc[6370:17870]\n",
    "finqa_results = final_rank.iloc[17870:18870]\n",
    "finqabench_results = final_rank.iloc[18870:20370]\n",
    "multih_results = final_rank.iloc[20370:30110]\n",
    "tatqa_results = final_rank.iloc[30110:]"
   ]
  },
  {
   "cell_type": "code",
   "execution_count": 8,
   "id": "1fd0f17b-688f-4248-a092-e0cfce75ebc0",
   "metadata": {},
   "outputs": [],
   "source": [
    "confinqa_dict = {}\n",
    "for key in convfinqa_results['query_id'].unique():\n",
    "    group = convfinqa_results[convfinqa_results['query_id'] == key]\n",
    "    confinqa_dict[key] = {value: idx for idx, value in enumerate(group['corpus_id'], start=1)}\n",
    "\n",
    "finbench_dict = {}\n",
    "for key in finbench_results['query_id'].unique():\n",
    "    group = finbench_results[finbench_results['query_id'] == key]\n",
    "    finbench_dict[key] = {value: idx for idx, value in enumerate(group['corpus_id'], start=1)}\n",
    "\n",
    "finder_dict = {}\n",
    "for key in finder_results['query_id'].unique():\n",
    "    group = finder_results[finder_results['query_id'] == key]\n",
    "    finder_dict[key] = {value: idx for idx, value in enumerate(group['corpus_id'], start=1)}\n",
    "\n",
    "finqa_dict = {}\n",
    "for key in finqa_results['query_id'].unique():\n",
    "    group = finqa_results[finqa_results['query_id'] == key]\n",
    "    finqa_dict[key] = {value: idx for idx, value in enumerate(group['corpus_id'], start=1)}\n",
    "\n",
    "finqabench_dict = {}\n",
    "for key in finqabench_results['query_id'].unique():\n",
    "    group = finqabench_results[finqabench_results['query_id'] == key]\n",
    "    finqabench_dict[key] = {value: idx for idx, value in enumerate(group['corpus_id'], start=1)}\n",
    "\n",
    "multih_dict = {}\n",
    "for key in multih_results['query_id'].unique():\n",
    "    group = multih_results[multih_results['query_id'] == key]\n",
    "    multih_dict[key] = {value: idx for idx, value in enumerate(group['corpus_id'], start=1)}\n",
    "\n",
    "tatqa_dict = {}\n",
    "for key in tatqa_results['query_id'].unique():\n",
    "    group = tatqa_results[tatqa_results['query_id'] == key]\n",
    "    tatqa_dict[key] = {value: idx for idx, value in enumerate(group['corpus_id'], start=1)}"
   ]
  },
  {
   "cell_type": "code",
   "execution_count": 9,
   "id": "564604f3-89c4-43ee-be28-9fa94335990a",
   "metadata": {},
   "outputs": [],
   "source": [
    "convfinqa_task.rerank_results = confinqa_dict\n",
    "finbench_task.rerank_results = finbench_dict\n",
    "finder_task.rerank_results = finder_dict\n",
    "finqa_task.rerank_results = finqa_dict\n",
    "finqabench_task.rerank_results = finqabench_dict\n",
    "multih_task.rerank_results = multih_dict\n",
    "tatqa_task.rerank_results = tatqa_dict"
   ]
  },
  {
   "cell_type": "code",
   "execution_count": null,
   "id": "3d2c9af5-72a3-4643-8ff6-f3d83739d03f",
   "metadata": {},
   "outputs": [],
   "source": []
  },
  {
   "cell_type": "code",
   "execution_count": null,
   "id": "d0682f3d-3262-46d6-a0dd-0608b2f1f3bc",
   "metadata": {},
   "outputs": [],
   "source": []
  },
  {
   "cell_type": "code",
   "execution_count": null,
   "id": "b6c439e8-5846-4174-b516-af7ddc9f1c58",
   "metadata": {},
   "outputs": [],
   "source": []
  },
  {
   "cell_type": "code",
   "execution_count": null,
   "id": "d0636fce-d9f7-4547-a22f-9973a9f51e46",
   "metadata": {},
   "outputs": [],
   "source": []
  },
  {
   "cell_type": "code",
   "execution_count": null,
   "id": "8f6d6264-93d7-4bef-86c1-5047127f37a3",
   "metadata": {},
   "outputs": [],
   "source": []
  },
  {
   "cell_type": "code",
   "execution_count": null,
   "id": "2f12018a-f9b9-4fbb-a1d9-8bcefa81f9b7",
   "metadata": {},
   "outputs": [],
   "source": []
  },
  {
   "cell_type": "code",
   "execution_count": null,
   "id": "916fe9de-9c82-4a3b-bf7f-ddb3b9794a1e",
   "metadata": {},
   "outputs": [],
   "source": []
  },
  {
   "cell_type": "code",
   "execution_count": null,
   "id": "9b6d5b3c-ae67-4cd9-abf6-d0748856a0d6",
   "metadata": {},
   "outputs": [],
   "source": []
  },
  {
   "cell_type": "code",
   "execution_count": null,
   "id": "109e2ad7-60ca-4a4d-adfb-a3970acadf00",
   "metadata": {},
   "outputs": [],
   "source": []
  },
  {
   "cell_type": "code",
   "execution_count": null,
   "id": "c493246d-5b6b-4027-b385-a0e4dc9a1ac6",
   "metadata": {},
   "outputs": [],
   "source": []
  },
  {
   "cell_type": "code",
   "execution_count": null,
   "id": "859bc404-17c8-4377-ba0b-778d0d6ea7c7",
   "metadata": {},
   "outputs": [],
   "source": []
  },
  {
   "cell_type": "code",
   "execution_count": null,
   "id": "2d3d2836-6a16-4757-9fd4-d58d8cb94c8e",
   "metadata": {},
   "outputs": [],
   "source": []
  },
  {
   "cell_type": "code",
   "execution_count": null,
   "id": "a8078c10-c614-4544-af4d-23cec196d35b",
   "metadata": {},
   "outputs": [],
   "source": []
  }
 ],
 "metadata": {
  "kernelspec": {
   "display_name": "DSC",
   "language": "python",
   "name": "dsc"
  },
  "language_info": {
   "codemirror_mode": {
    "name": "ipython",
    "version": 3
   },
   "file_extension": ".py",
   "mimetype": "text/x-python",
   "name": "python",
   "nbconvert_exporter": "python",
   "pygments_lexer": "ipython3",
   "version": "3.12.7"
  }
 },
 "nbformat": 4,
 "nbformat_minor": 5
}
